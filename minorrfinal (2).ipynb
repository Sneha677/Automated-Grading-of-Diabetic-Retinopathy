{
  "nbformat": 4,
  "nbformat_minor": 0,
  "metadata": {
    "kernelspec": {
      "display_name": "Python 3",
      "language": "python",
      "name": "python3"
    },
    "language_info": {
      "codemirror_mode": {
        "name": "ipython",
        "version": 3
      },
      "file_extension": ".py",
      "mimetype": "text/x-python",
      "name": "python",
      "nbconvert_exporter": "python",
      "pygments_lexer": "ipython3",
      "version": "3.6.6"
    },
    "colab": {
      "name": "minorrfinal.ipynb",
      "provenance": [],
      "collapsed_sections": [],
      "toc_visible": true
    },
    "accelerator": "GPU"
  },
  "cells": [
    {
      "cell_type": "markdown",
      "metadata": {
        "id": "xGp4R4j8sChD"
      },
      "source": [
        "# Project Title : Grading of Diabetic Retinopathy  "
      ]
    },
    {
      "cell_type": "markdown",
      "metadata": {
        "id": "Y10MPhUx2Wcb"
      },
      "source": [
        "# **Import models**"
      ]
    },
    {
      "cell_type": "code",
      "metadata": {
        "id": "IXHLAnJ520PL",
        "colab": {
          "base_uri": "https://localhost:8080/"
        },
        "outputId": "296b719d-bd33-454f-8949-142678a71156"
      },
      "source": [
        "from google.colab import drive\n",
        "drive.mount('/content/drive')"
      ],
      "execution_count": null,
      "outputs": [
        {
          "output_type": "stream",
          "text": [
            "Mounted at /content/drive\n"
          ],
          "name": "stdout"
        }
      ]
    },
    {
      "cell_type": "code",
      "metadata": {
        "_cell_guid": "b1076dfc-b9ad-4769-8c92-a6c4dae69d19",
        "_uuid": "8f2839f25d086af736a60e9eeb907d3b93b6e0e5",
        "id": "G1-yzwJOGzn2",
        "colab": {
          "base_uri": "https://localhost:8080/"
        },
        "outputId": "67478ebb-5848-4433-e41a-4a51ea58e951"
      },
      "source": [
        "import tensorflow as tf\n",
        "from tensorflow import keras\n",
        "import numpy as np # linear algebra\n",
        "import pandas as pd # data processing, CSV file I/O (e.g. pd.read_csv)\n",
        "import matplotlib.pyplot as plt\n",
        "import os\n",
        "print(os.listdir(\"/content/drive/MyDrive/4\"))"
      ],
      "execution_count": null,
      "outputs": [
        {
          "output_type": "stream",
          "text": [
            "['DR_id.csv', 'dr_weights.hdf5', 'train', 'pread.csv', 'pre1.csv', 'test.csv', 'test1.csv', 'test2.csv', 'my_ml_lib.py', '__pycache__', 'cache', 'models']\n"
          ],
          "name": "stdout"
        }
      ]
    },
    {
      "cell_type": "code",
      "metadata": {
        "_cell_guid": "79c7e3d0-c299-4dcb-8224-4455121ee9b0",
        "_uuid": "d629ff2d2480ee46fbb7e2d37f6b5fab8052498a",
        "id": "AdUQgj6jGzn4"
      },
      "source": [
        "PATH = '/content/drive/MyDrive/4'\n",
        "train = pd.read_csv(PATH + '/DR_id.csv')"
      ],
      "execution_count": null,
      "outputs": []
    },
    {
      "cell_type": "code",
      "metadata": {
        "id": "7eh-vVVNGzn5",
        "colab": {
          "base_uri": "https://localhost:8080/",
          "height": 204
        },
        "outputId": "c339305e-f375-404f-a829-09f91b8eef2f"
      },
      "source": [
        "train.head()"
      ],
      "execution_count": null,
      "outputs": [
        {
          "output_type": "execute_result",
          "data": {
            "text/html": [
              "<div>\n",
              "<style scoped>\n",
              "    .dataframe tbody tr th:only-of-type {\n",
              "        vertical-align: middle;\n",
              "    }\n",
              "\n",
              "    .dataframe tbody tr th {\n",
              "        vertical-align: top;\n",
              "    }\n",
              "\n",
              "    .dataframe thead th {\n",
              "        text-align: right;\n",
              "    }\n",
              "</style>\n",
              "<table border=\"1\" class=\"dataframe\">\n",
              "  <thead>\n",
              "    <tr style=\"text-align: right;\">\n",
              "      <th></th>\n",
              "      <th>id_code</th>\n",
              "      <th>diagnosis</th>\n",
              "    </tr>\n",
              "  </thead>\n",
              "  <tbody>\n",
              "    <tr>\n",
              "      <th>0</th>\n",
              "      <td>000c1434d8d7</td>\n",
              "      <td>2</td>\n",
              "    </tr>\n",
              "    <tr>\n",
              "      <th>1</th>\n",
              "      <td>001639a390f0</td>\n",
              "      <td>4</td>\n",
              "    </tr>\n",
              "    <tr>\n",
              "      <th>2</th>\n",
              "      <td>0024cdab0c1e</td>\n",
              "      <td>1</td>\n",
              "    </tr>\n",
              "    <tr>\n",
              "      <th>3</th>\n",
              "      <td>002c21358ce6</td>\n",
              "      <td>0</td>\n",
              "    </tr>\n",
              "    <tr>\n",
              "      <th>4</th>\n",
              "      <td>005b95c28852</td>\n",
              "      <td>0</td>\n",
              "    </tr>\n",
              "  </tbody>\n",
              "</table>\n",
              "</div>"
            ],
            "text/plain": [
              "        id_code  diagnosis\n",
              "0  000c1434d8d7          2\n",
              "1  001639a390f0          4\n",
              "2  0024cdab0c1e          1\n",
              "3  002c21358ce6          0\n",
              "4  005b95c28852          0"
            ]
          },
          "metadata": {
            "tags": []
          },
          "execution_count": 4
        }
      ]
    },
    {
      "cell_type": "markdown",
      "metadata": {
        "id": "Oh-LohJT3qot"
      },
      "source": [
        "# To check how many images are in each category"
      ]
    },
    {
      "cell_type": "code",
      "metadata": {
        "id": "DZemzpiBGzn5"
      },
      "source": [
        "train['diagnosis'].value_counts().plot(kind = 'bar')"
      ],
      "execution_count": null,
      "outputs": []
    },
    {
      "cell_type": "markdown",
      "metadata": {
        "id": "djIIew-C3_Qa"
      },
      "source": [
        "# Total Number of Images"
      ]
    },
    {
      "cell_type": "code",
      "metadata": {
        "id": "IAiTZC6_Gzn6"
      },
      "source": [
        "train['diagnosis'].value_counts().sort_index()[0]"
      ],
      "execution_count": null,
      "outputs": []
    },
    {
      "cell_type": "code",
      "metadata": {
        "id": "tuOPm9_bGzn6"
      },
      "source": [
        "total = train['diagnosis'].value_counts().sum()\n",
        "w0 = train['diagnosis'].value_counts().sort_index()[0] / total\n",
        "w1 = train['diagnosis'].value_counts().sort_index()[1] / total\n",
        "w2 = train['diagnosis'].value_counts().sort_index()[2] / total\n",
        "w3 = train['diagnosis'].value_counts().sort_index()[3] / total\n",
        "w4 = train['diagnosis'].value_counts().sort_index()[4] / total\n",
        "class_wg = {0: w3, 1: w1, 2: w4, 3: w0, 4: w2}\n",
        "#class_wg = {0: w0, 1: w1, 2: w2, 3: w3, 4: w4}\n",
        "\n",
        "print('class weights:')\n",
        "print('0: ', w0)\n",
        "print('1: ', w1)\n",
        "print('2: ', w2)\n",
        "print('3: ', w3)\n",
        "print('4: ', w4)"
      ],
      "execution_count": null,
      "outputs": []
    },
    {
      "cell_type": "code",
      "metadata": {
        "id": "jABpOQIivrO0"
      },
      "source": [
        "print(train['diagnosis'].value_counts())"
      ],
      "execution_count": null,
      "outputs": []
    },
    {
      "cell_type": "code",
      "metadata": {
        "id": "WzyslCCeGzn7",
        "colab": {
          "base_uri": "https://localhost:8080/",
          "height": 286
        },
        "outputId": "1f3c6182-2e96-4fa0-ad7d-3a7435fdd888"
      },
      "source": [
        "from keras.preprocessing import image\n",
        "from keras.applications.imagenet_utils import preprocess_input\n",
        "\n",
        "img = image.load_img(PATH + '/train/' + train['id_code'][0] + '.png', target_size = (240, 240, 3))\n",
        "plt.imshow(img)\n"
      ],
      "execution_count": null,
      "outputs": [
        {
          "output_type": "execute_result",
          "data": {
            "text/plain": [
              "<matplotlib.image.AxesImage at 0x7f7e63796f50>"
            ]
          },
          "metadata": {
            "tags": []
          },
          "execution_count": 5
        },
        {
          "output_type": "display_data",
          "data": {
            "image/png": "[encoded data removed]",
            "text/plain": [
              "<Figure size 432x288 with 1 Axes>"
            ]
          },
          "metadata": {
            "tags": [],
            "needs_background": "light"
          }
        }
      ]
    },
    {
      "cell_type": "markdown",
      "metadata": {
        "id": "tbwcC-rb4hSl"
      },
      "source": [
        "# Loading All Images"
      ]
    },
    {
      "cell_type": "code",
      "metadata": {
        "id": "hS59YaGUGzn7"
      },
      "source": [
        "from keras.preprocessing import image\n",
        "from keras.applications.imagenet_utils import preprocess_input\n",
        "def load_images(df, dfPath):\n",
        "    xdata = np.zeros((df.shape[0], 100, 100, 3))\n",
        "    index = 0\n",
        "    for id_code in df['id_code']:\n",
        "        img = image.load_img(PATH + dfPath + '/' + id_code + '.png', target_size = (240, 240, 3))\n",
        "        x = image.img_to_array(img)\n",
        "        x = preprocess_input(x)\n",
        "        xdata[index] = x\n",
        "        index += 1\n",
        "    xdata = xdata / 255.0\n",
        "    return xdata       "
      ],
      "execution_count": null,
      "outputs": []
    },
    {
      "cell_type": "code",
      "metadata": {
        "id": "xNyBwtcKGzn7"
      },
      "source": [
        "x_train = train.drop(['diagnosis'], axis = 1)\n",
        "y_train = train['diagnosis']"
      ],
      "execution_count": null,
      "outputs": []
    },
    {
      "cell_type": "code",
      "metadata": {
        "id": "na-iKoyTGzn8"
      },
      "source": [
        "trainpath = '/train/'\n",
        "x_train = load_images(train, trainpath)"
      ],
      "execution_count": null,
      "outputs": []
    },
    {
      "cell_type": "code",
      "metadata": {
        "id": "AqIEEM3nGzn8"
      },
      "source": [
        "plt.imshow(x_train[0][:,:,:])"
      ],
      "execution_count": null,
      "outputs": []
    },
    {
      "cell_type": "code",
      "metadata": {
        "id": "IuDqffFNGzn9"
      },
      "source": [
        "plt.imshow(x_train[0])"
      ],
      "execution_count": null,
      "outputs": []
    },
    {
      "cell_type": "code",
      "metadata": {
        "id": "V_yhkTWIGzn9",
        "colab": {
          "base_uri": "https://localhost:8080/",
          "height": 286
        },
        "outputId": "80128f9a-b7c2-4dd2-c394-8b8ae4627447"
      },
      "source": [
        "plt.imshow(x_train[0][:,:,2])"
      ],
      "execution_count": null,
      "outputs": [
        {
          "output_type": "execute_result",
          "data": {
            "text/plain": [
              "<matplotlib.image.AxesImage at 0x7fd255555f10>"
            ]
          },
          "metadata": {
            "tags": []
          },
          "execution_count": 16
        },
        {
          "output_type": "display_data",
          "data": {
            "image/png": "[encoded data removed]",
            "text/plain": [
              "<Figure size 432x288 with 1 Axes>"
            ]
          },
          "metadata": {
            "tags": [],
            "needs_background": "light"
          }
        }
      ]
    },
    {
      "cell_type": "code",
      "metadata": {
        "id": "iPN6BcUIGzn9",
        "colab": {
          "base_uri": "https://localhost:8080/"
        },
        "outputId": "d852e078-f33e-4d30-ba06-116837b60478"
      },
      "source": [
        "y_train.head()"
      ],
      "execution_count": null,
      "outputs": [
        {
          "output_type": "execute_result",
          "data": {
            "text/plain": [
              "0    2\n",
              "1    4\n",
              "2    1\n",
              "3    0\n",
              "4    0\n",
              "Name: diagnosis, dtype: int64"
            ]
          },
          "metadata": {
            "tags": []
          },
          "execution_count": 17
        }
      ]
    },
    {
      "cell_type": "code",
      "metadata": {
        "id": "QxWJNGzNGzn9"
      },
      "source": [
        "print(y_train.shape)"
      ],
      "execution_count": null,
      "outputs": []
    },
    {
      "cell_type": "code",
      "metadata": {
        "id": "zF0sprwuGzn-"
      },
      "source": [
        "del train"
      ],
      "execution_count": null,
      "outputs": []
    },
    {
      "cell_type": "code",
      "metadata": {
        "id": "5xiPlu00Gzn-"
      },
      "source": [
        "from sklearn.preprocessing import LabelEncoder\n",
        "from keras.utils.np_utils import to_categorical\n",
        "\n",
        "lb = LabelEncoder()\n",
        "y_train = lb.fit_transform(y_train)\n",
        "y_train = to_categorical(y_train, num_classes = 5)"
      ],
      "execution_count": null,
      "outputs": []
    },
    {
      "cell_type": "code",
      "metadata": {
        "id": "zg1Me4AjGzn-",
        "colab": {
          "base_uri": "https://localhost:8080/"
        },
        "outputId": "e0bdd891-d3f1-4e91-ac46-3ec2e7113041"
      },
      "source": [
        "y_train"
      ],
      "execution_count": null,
      "outputs": [
        {
          "output_type": "execute_result",
          "data": {
            "text/plain": [
              "array([[0., 0., 1., 0., 0.],\n",
              "       [0., 0., 0., 0., 1.],\n",
              "       [0., 1., 0., 0., 0.],\n",
              "       ...,\n",
              "       [0., 0., 1., 0., 0.],\n",
              "       [1., 0., 0., 0., 0.],\n",
              "       [0., 0., 1., 0., 0.]], dtype=float32)"
            ]
          },
          "metadata": {
            "tags": []
          },
          "execution_count": 20
        }
      ]
    },
    {
      "cell_type": "markdown",
      "metadata": {
        "id": "Q8kKsw1E5Aal"
      },
      "source": [
        "# Creating of CNN Model"
      ]
    },
    {
      "cell_type": "code",
      "metadata": {
        "id": "xDCbagHFGzn-",
        "colab": {
          "base_uri": "https://localhost:8080/"
        },
        "outputId": "90862d02-7993-4c2e-f5c7-2b3be74081af"
      },
      "source": [
        "from keras.models import Sequential\n",
        "from keras.layers import Dense, Dropout, Flatten\n",
        "from keras.layers.convolutional import Conv2D, MaxPooling2D\n",
        "\n",
        "model = Sequential()\n",
        "\n",
        "model.add(Conv2D(filters = 30, kernel_size = (5, 5), input_shape = (100, 100, 3), activation = 'relu'))\n",
        "model.add(MaxPooling2D(pool_size = (2, 2)))\n",
        "model.add(Dropout(0.2))\n",
        "\n",
        "model.add(Conv2D(filters = 15, kernel_size = (3, 3), activation = 'relu'))\n",
        "model.add(Conv2D(filters = 15, kernel_size = (3, 3), activation = 'relu'))\n",
        "model.add(MaxPooling2D(pool_size = (2, 2)))\n",
        "model.add(Conv2D(filters = 15, kernel_size = (3, 3), activation = 'relu'))\n",
        "model.add(MaxPooling2D(pool_size = (2, 2)))\n",
        "model.add(Conv2D(filters = 15, kernel_size = (3, 3), activation = 'relu'))\n",
        "model.add(MaxPooling2D(pool_size = (2, 2)))\n",
        "\n",
        "model.add(Dropout(0.2))\n",
        "\n",
        "\n",
        "model.add(Flatten())\n",
        "model.add(Dense(128, activation = 'relu'))\n",
        "\n",
        "model.add(Dense(64, activation = 'relu'))\n",
        "\n",
        "model.add(Dense(32, activation = 'relu'))\n",
        "\n",
        "model.add(Dense(5, activation = 'softmax'))\n",
        "\n",
        "\n",
        "model.summary()\n"
      ],
      "execution_count": null,
      "outputs": [
        {
          "output_type": "stream",
          "text": [
            "Model: \"sequential\"\n",
            "_________________________________________________________________\n",
            "Layer (type)                 Output Shape              Param #   \n",
            "=================================================================\n",
            "conv2d (Conv2D)              (None, 96, 96, 30)        2280      \n",
            "_________________________________________________________________\n",
            "max_pooling2d (MaxPooling2D) (None, 48, 48, 30)        0         \n",
            "_________________________________________________________________\n",
            "dropout (Dropout)            (None, 48, 48, 30)        0         \n",
            "_________________________________________________________________\n",
            "conv2d_1 (Conv2D)            (None, 46, 46, 15)        4065      \n",
            "_________________________________________________________________\n",
            "conv2d_2 (Conv2D)            (None, 44, 44, 15)        2040      \n",
            "_________________________________________________________________\n",
            "max_pooling2d_1 (MaxPooling2 (None, 22, 22, 15)        0         \n",
            "_________________________________________________________________\n",
            "conv2d_3 (Conv2D)            (None, 20, 20, 15)        2040      \n",
            "_________________________________________________________________\n",
            "max_pooling2d_2 (MaxPooling2 (None, 10, 10, 15)        0         \n",
            "_________________________________________________________________\n",
            "conv2d_4 (Conv2D)            (None, 8, 8, 15)          2040      \n",
            "_________________________________________________________________\n",
            "max_pooling2d_3 (MaxPooling2 (None, 4, 4, 15)          0         \n",
            "_________________________________________________________________\n",
            "conv2d_5 (Conv2D)            (None, 2, 2, 15)          2040      \n",
            "_________________________________________________________________\n",
            "max_pooling2d_4 (MaxPooling2 (None, 1, 1, 15)          0         \n",
            "_________________________________________________________________\n",
            "dropout_1 (Dropout)          (None, 1, 1, 15)          0         \n",
            "_________________________________________________________________\n",
            "flatten (Flatten)            (None, 15)                0         \n",
            "_________________________________________________________________\n",
            "dense (Dense)                (None, 128)               2048      \n",
            "_________________________________________________________________\n",
            "dense_1 (Dense)              (None, 64)                8256      \n",
            "_________________________________________________________________\n",
            "dense_2 (Dense)              (None, 32)                2080      \n",
            "_________________________________________________________________\n",
            "dense_3 (Dense)              (None, 5)                 165       \n",
            "=================================================================\n",
            "Total params: 27,054\n",
            "Trainable params: 27,054\n",
            "Non-trainable params: 0\n",
            "_________________________________________________________________\n"
          ],
          "name": "stdout"
        }
      ]
    },
    {
      "cell_type": "code",
      "metadata": {
        "id": "17Eh_ftXbrxt"
      },
      "source": [
        ""
      ],
      "execution_count": null,
      "outputs": []
    },
    {
      "cell_type": "code",
      "metadata": {
        "id": "WA7TJ0spMiZe"
      },
      "source": [
        "from tensorflow.keras.callbacks import ReduceLROnPlateau, EarlyStopping, ModelCheckpoint, LearningRateScheduler\n",
        "import tensorflow.keras.backend as K\n",
        "earlystopping = EarlyStopping(monitor='val_loss', \n",
        "                              mode='min', \n",
        "                              verbose=1, \n",
        "                              patience=8\n",
        "                             )\n",
        "checkpointer = ModelCheckpoint(filepath=\"clf-CNN-weights.hdf5\", \n",
        "                               verbose=1, \n",
        "                               save_best_only=True\n",
        "                              )\n",
        "reduce_lr = ReduceLROnPlateau(monitor='val_loss',\n",
        "                              mode='min',\n",
        "                              verbose=1,\n",
        "                              patience=3,\n",
        "                              min_delta=0.0001,\n",
        "                              factor=0.2\n",
        "                             )\n",
        "callbacks = [checkpointer, earlystopping, reduce_lr]"
      ],
      "execution_count": null,
      "outputs": []
    },
    {
      "cell_type": "code",
      "metadata": {
        "id": "knYMeSzhGzn_",
        "colab": {
          "base_uri": "https://localhost:8080/"
        },
        "outputId": "d2425452-ee35-49a1-a7da-d3be9708017d"
      },
      "source": [
        "import keras\n",
        "model.compile(loss='binary_crossentropy', optimizer='adam', metrics=['accuracy'])\n",
        "history=model.fit(x_train, y_train,validation_split = 0.2, epochs = 50, batch_size = 128, class_weight = class_wg,callbacks = [checkpointer, earlystopping])\n"
      ],
      "execution_count": null,
      "outputs": [
        {
          "output_type": "stream",
          "text": [
            "Epoch 1/50\n",
            "23/23 [==============================] - 1s 36ms/step - loss: 0.0681 - accuracy: 0.4564 - val_loss: 0.4934 - val_accuracy: 0.5280\n",
            "\n",
            "Epoch 00001: val_loss improved from inf to 0.49342, saving model to clf-CNN-weights.hdf5\n",
            "Epoch 2/50\n",
            "23/23 [==============================] - 1s 26ms/step - loss: 0.0546 - accuracy: 0.3185 - val_loss: 0.4848 - val_accuracy: 0.0477\n",
            "\n",
            "Epoch 00002: val_loss improved from 0.49342 to 0.48479, saving model to clf-CNN-weights.hdf5\n",
            "Epoch 3/50\n",
            "23/23 [==============================] - 1s 26ms/step - loss: 0.0527 - accuracy: 0.3060 - val_loss: 0.4725 - val_accuracy: 0.5280\n",
            "\n",
            "Epoch 00003: val_loss improved from 0.48479 to 0.47252, saving model to clf-CNN-weights.hdf5\n",
            "Epoch 4/50\n",
            "23/23 [==============================] - 1s 26ms/step - loss: 0.0520 - accuracy: 0.4743 - val_loss: 0.4344 - val_accuracy: 0.4570\n",
            "\n",
            "Epoch 00004: val_loss improved from 0.47252 to 0.43436, saving model to clf-CNN-weights.hdf5\n",
            "Epoch 5/50\n",
            "23/23 [==============================] - 1s 26ms/step - loss: 0.0513 - accuracy: 0.4063 - val_loss: 0.3862 - val_accuracy: 0.5293\n",
            "\n",
            "Epoch 00005: val_loss improved from 0.43436 to 0.38617, saving model to clf-CNN-weights.hdf5\n",
            "Epoch 6/50\n",
            "23/23 [==============================] - 1s 25ms/step - loss: 0.0471 - accuracy: 0.4947 - val_loss: 0.3480 - val_accuracy: 0.6112\n",
            "\n",
            "Epoch 00006: val_loss improved from 0.38617 to 0.34800, saving model to clf-CNN-weights.hdf5\n",
            "Epoch 7/50\n",
            "23/23 [==============================] - 1s 25ms/step - loss: 0.0443 - accuracy: 0.5580 - val_loss: 0.3329 - val_accuracy: 0.6126\n",
            "\n",
            "Epoch 00007: val_loss improved from 0.34800 to 0.33285, saving model to clf-CNN-weights.hdf5\n",
            "Epoch 8/50\n",
            "23/23 [==============================] - 1s 25ms/step - loss: 0.0426 - accuracy: 0.5898 - val_loss: 0.3148 - val_accuracy: 0.5880\n",
            "\n",
            "Epoch 00008: val_loss improved from 0.33285 to 0.31478, saving model to clf-CNN-weights.hdf5\n",
            "Epoch 9/50\n",
            "23/23 [==============================] - 1s 26ms/step - loss: 0.0404 - accuracy: 0.5735 - val_loss: 0.3215 - val_accuracy: 0.6044\n",
            "\n",
            "Epoch 00009: val_loss did not improve from 0.31478\n",
            "Epoch 10/50\n",
            "23/23 [==============================] - 1s 26ms/step - loss: 0.0406 - accuracy: 0.5752 - val_loss: 0.2957 - val_accuracy: 0.6548\n",
            "\n",
            "Epoch 00010: val_loss improved from 0.31478 to 0.29571, saving model to clf-CNN-weights.hdf5\n",
            "Epoch 11/50\n",
            "23/23 [==============================] - 1s 26ms/step - loss: 0.0403 - accuracy: 0.5968 - val_loss: 0.2896 - val_accuracy: 0.6398\n",
            "\n",
            "Epoch 00011: val_loss improved from 0.29571 to 0.28961, saving model to clf-CNN-weights.hdf5\n",
            "Epoch 12/50\n",
            "23/23 [==============================] - 1s 25ms/step - loss: 0.0393 - accuracy: 0.6125 - val_loss: 0.3063 - val_accuracy: 0.5839\n",
            "\n",
            "Epoch 00012: val_loss did not improve from 0.28961\n",
            "Epoch 13/50\n",
            "23/23 [==============================] - 1s 25ms/step - loss: 0.0390 - accuracy: 0.5644 - val_loss: 0.2936 - val_accuracy: 0.6207\n",
            "\n",
            "Epoch 00013: val_loss did not improve from 0.28961\n",
            "Epoch 14/50\n",
            "23/23 [==============================] - 1s 25ms/step - loss: 0.0372 - accuracy: 0.6061 - val_loss: 0.2987 - val_accuracy: 0.5975\n",
            "\n",
            "Epoch 00014: val_loss did not improve from 0.28961\n",
            "Epoch 15/50\n",
            "23/23 [==============================] - 1s 25ms/step - loss: 0.0382 - accuracy: 0.5876 - val_loss: 0.2934 - val_accuracy: 0.5989\n",
            "\n",
            "Epoch 00015: val_loss did not improve from 0.28961\n",
            "Epoch 16/50\n",
            "23/23 [==============================] - 1s 25ms/step - loss: 0.0379 - accuracy: 0.6153 - val_loss: 0.3122 - val_accuracy: 0.5157\n",
            "\n",
            "Epoch 00016: val_loss did not improve from 0.28961\n",
            "Epoch 17/50\n",
            "23/23 [==============================] - 1s 25ms/step - loss: 0.0376 - accuracy: 0.5668 - val_loss: 0.3000 - val_accuracy: 0.5825\n",
            "\n",
            "Epoch 00017: val_loss did not improve from 0.28961\n",
            "Epoch 18/50\n",
            "23/23 [==============================] - 1s 25ms/step - loss: 0.0371 - accuracy: 0.6078 - val_loss: 0.2917 - val_accuracy: 0.6112\n",
            "\n",
            "Epoch 00018: val_loss did not improve from 0.28961\n",
            "Epoch 19/50\n",
            "23/23 [==============================] - 1s 25ms/step - loss: 0.0367 - accuracy: 0.5959 - val_loss: 0.2907 - val_accuracy: 0.6126\n",
            "\n",
            "Epoch 00019: val_loss did not improve from 0.28961\n",
            "Epoch 20/50\n",
            "23/23 [==============================] - 1s 26ms/step - loss: 0.0352 - accuracy: 0.6198 - val_loss: 0.2947 - val_accuracy: 0.5935\n",
            "\n",
            "Epoch 00020: val_loss did not improve from 0.28961\n",
            "Epoch 21/50\n",
            "23/23 [==============================] - 1s 25ms/step - loss: 0.0357 - accuracy: 0.6222 - val_loss: 0.3053 - val_accuracy: 0.5812\n",
            "\n",
            "Epoch 00021: val_loss did not improve from 0.28961\n",
            "Epoch 22/50\n",
            "23/23 [==============================] - 1s 25ms/step - loss: 0.0348 - accuracy: 0.6179 - val_loss: 0.2905 - val_accuracy: 0.5771\n",
            "\n",
            "Epoch 00022: val_loss did not improve from 0.28961\n",
            "Epoch 23/50\n",
            "23/23 [==============================] - 1s 26ms/step - loss: 0.0365 - accuracy: 0.6090 - val_loss: 0.3015 - val_accuracy: 0.6248\n",
            "\n",
            "Epoch 00023: val_loss did not improve from 0.28961\n",
            "Epoch 24/50\n",
            "23/23 [==============================] - 1s 25ms/step - loss: 0.0350 - accuracy: 0.6257 - val_loss: 0.2807 - val_accuracy: 0.6344\n",
            "\n",
            "Epoch 00024: val_loss improved from 0.28961 to 0.28074, saving model to clf-CNN-weights.hdf5\n",
            "Epoch 25/50\n",
            "23/23 [==============================] - 1s 25ms/step - loss: 0.0327 - accuracy: 0.6703 - val_loss: 0.2955 - val_accuracy: 0.6126\n",
            "\n",
            "Epoch 00025: val_loss did not improve from 0.28074\n",
            "Epoch 26/50\n",
            "23/23 [==============================] - 1s 26ms/step - loss: 0.0338 - accuracy: 0.6177 - val_loss: 0.2722 - val_accuracy: 0.6930\n",
            "\n",
            "Epoch 00026: val_loss improved from 0.28074 to 0.27224, saving model to clf-CNN-weights.hdf5\n",
            "Epoch 27/50\n",
            "23/23 [==============================] - 1s 25ms/step - loss: 0.0349 - accuracy: 0.6568 - val_loss: 0.2839 - val_accuracy: 0.6521\n",
            "\n",
            "Epoch 00027: val_loss did not improve from 0.27224\n",
            "Epoch 28/50\n",
            "23/23 [==============================] - 1s 27ms/step - loss: 0.0360 - accuracy: 0.6538 - val_loss: 0.2838 - val_accuracy: 0.6548\n",
            "\n",
            "Epoch 00028: val_loss did not improve from 0.27224\n",
            "Epoch 29/50\n",
            "23/23 [==============================] - 1s 26ms/step - loss: 0.0334 - accuracy: 0.6640 - val_loss: 0.2770 - val_accuracy: 0.6712\n",
            "\n",
            "Epoch 00029: val_loss did not improve from 0.27224\n",
            "Epoch 30/50\n",
            "23/23 [==============================] - 1s 25ms/step - loss: 0.0329 - accuracy: 0.6813 - val_loss: 0.3004 - val_accuracy: 0.6180\n",
            "\n",
            "Epoch 00030: val_loss did not improve from 0.27224\n",
            "Epoch 31/50\n",
            "23/23 [==============================] - 1s 26ms/step - loss: 0.0337 - accuracy: 0.6464 - val_loss: 0.2948 - val_accuracy: 0.6508\n",
            "\n",
            "Epoch 00031: val_loss did not improve from 0.27224\n",
            "Epoch 32/50\n",
            "23/23 [==============================] - 1s 26ms/step - loss: 0.0323 - accuracy: 0.6905 - val_loss: 0.3054 - val_accuracy: 0.6126\n",
            "\n",
            "Epoch 00032: val_loss did not improve from 0.27224\n",
            "Epoch 33/50\n",
            "23/23 [==============================] - 1s 25ms/step - loss: 0.0302 - accuracy: 0.6913 - val_loss: 0.3269 - val_accuracy: 0.5703\n",
            "\n",
            "Epoch 00033: val_loss did not improve from 0.27224\n",
            "Epoch 34/50\n",
            "23/23 [==============================] - 1s 26ms/step - loss: 0.0320 - accuracy: 0.6706 - val_loss: 0.3042 - val_accuracy: 0.6303\n",
            "\n",
            "Epoch 00034: val_loss did not improve from 0.27224\n",
            "Epoch 35/50\n",
            "23/23 [==============================] - 1s 26ms/step - loss: 0.0313 - accuracy: 0.6672 - val_loss: 0.3027 - val_accuracy: 0.6180\n",
            "\n",
            "Epoch 00035: val_loss did not improve from 0.27224\n",
            "Epoch 36/50\n",
            "23/23 [==============================] - 1s 25ms/step - loss: 0.0314 - accuracy: 0.6781 - val_loss: 0.2903 - val_accuracy: 0.6589\n",
            "\n",
            "Epoch 00036: val_loss did not improve from 0.27224\n",
            "Epoch 37/50\n",
            "23/23 [==============================] - 1s 26ms/step - loss: 0.0303 - accuracy: 0.7199 - val_loss: 0.2981 - val_accuracy: 0.6576\n",
            "\n",
            "Epoch 00037: val_loss did not improve from 0.27224\n",
            "Epoch 38/50\n",
            "23/23 [==============================] - 1s 25ms/step - loss: 0.0311 - accuracy: 0.6777 - val_loss: 0.2935 - val_accuracy: 0.6480\n",
            "\n",
            "Epoch 00038: val_loss did not improve from 0.27224\n",
            "Epoch 39/50\n",
            "23/23 [==============================] - 1s 25ms/step - loss: 0.0302 - accuracy: 0.7075 - val_loss: 0.3217 - val_accuracy: 0.6180\n",
            "\n",
            "Epoch 00039: val_loss did not improve from 0.27224\n",
            "Epoch 40/50\n",
            "23/23 [==============================] - 1s 25ms/step - loss: 0.0305 - accuracy: 0.7056 - val_loss: 0.3029 - val_accuracy: 0.6289\n",
            "\n",
            "Epoch 00040: val_loss did not improve from 0.27224\n",
            "Epoch 41/50\n",
            "23/23 [==============================] - 1s 25ms/step - loss: 0.0289 - accuracy: 0.7066 - val_loss: 0.2884 - val_accuracy: 0.6849\n",
            "\n",
            "Epoch 00041: val_loss did not improve from 0.27224\n",
            "Epoch 42/50\n",
            "23/23 [==============================] - 1s 25ms/step - loss: 0.0299 - accuracy: 0.7193 - val_loss: 0.3075 - val_accuracy: 0.6426\n",
            "\n",
            "Epoch 00042: val_loss did not improve from 0.27224\n",
            "Epoch 43/50\n",
            "23/23 [==============================] - 1s 25ms/step - loss: 0.0273 - accuracy: 0.7326 - val_loss: 0.3008 - val_accuracy: 0.6385\n",
            "\n",
            "Epoch 00043: val_loss did not improve from 0.27224\n",
            "Epoch 44/50\n",
            "23/23 [==============================] - 1s 25ms/step - loss: 0.0286 - accuracy: 0.7235 - val_loss: 0.3194 - val_accuracy: 0.6289\n",
            "\n",
            "Epoch 00044: val_loss did not improve from 0.27224\n",
            "Epoch 45/50\n",
            "23/23 [==============================] - 1s 25ms/step - loss: 0.0278 - accuracy: 0.7067 - val_loss: 0.2906 - val_accuracy: 0.6535\n",
            "\n",
            "Epoch 00045: val_loss did not improve from 0.27224\n",
            "Epoch 46/50\n",
            "23/23 [==============================] - 1s 26ms/step - loss: 0.0269 - accuracy: 0.7402 - val_loss: 0.2995 - val_accuracy: 0.6658\n",
            "\n",
            "Epoch 00046: val_loss did not improve from 0.27224\n",
            "Epoch 47/50\n",
            "23/23 [==============================] - 1s 25ms/step - loss: 0.0271 - accuracy: 0.7333 - val_loss: 0.3248 - val_accuracy: 0.6480\n",
            "\n",
            "Epoch 00047: val_loss did not improve from 0.27224\n",
            "Epoch 48/50\n",
            "23/23 [==============================] - 1s 26ms/step - loss: 0.0270 - accuracy: 0.7298 - val_loss: 0.2998 - val_accuracy: 0.6630\n",
            "\n",
            "Epoch 00048: val_loss did not improve from 0.27224\n",
            "Epoch 49/50\n",
            "23/23 [==============================] - 1s 26ms/step - loss: 0.0274 - accuracy: 0.7204 - val_loss: 0.2947 - val_accuracy: 0.6944\n",
            "\n",
            "Epoch 00049: val_loss did not improve from 0.27224\n",
            "Epoch 50/50\n",
            "23/23 [==============================] - 1s 25ms/step - loss: 0.0253 - accuracy: 0.7672 - val_loss: 0.3285 - val_accuracy: 0.6385\n",
            "\n",
            "Epoch 00050: val_loss did not improve from 0.27224\n"
          ],
          "name": "stdout"
        }
      ]
    },
    {
      "cell_type": "code",
      "metadata": {
        "colab": {
          "base_uri": "https://localhost:8080/",
          "height": 591
        },
        "id": "Vw224WDRWs2e",
        "outputId": "b4b4489d-958e-428f-e9b1-8605da47deab"
      },
      "source": [
        "print(history.history.keys())\n",
        "#  \"Accuracy\"\n",
        "plt.plot(history.history['accuracy'])\n",
        "plt.plot(history.history['val_accuracy'])\n",
        "plt.title('Model accuracy')\n",
        "plt.ylabel('Accuracy')\n",
        "plt.xlabel('Epoch')\n",
        "plt.legend(['train', 'validation'], loc='upper left')\n",
        "plt.show()\n",
        "# \"Loss\"\n",
        "plt.plot(history.history['loss'])\n",
        "plt.plot(history.history['val_loss'])\n",
        "plt.title('Model loss')\n",
        "plt.ylabel('Loss')\n",
        "plt.xlabel('Epoch')\n",
        "plt.legend(['train', 'validation'], loc='upper left')\n",
        "plt.show()"
      ],
      "execution_count": null,
      "outputs": [
        {
          "output_type": "stream",
          "text": [
            "dict_keys(['loss', 'accuracy', 'val_loss', 'val_accuracy'])\n"
          ],
          "name": "stdout"
        },
        {
          "output_type": "display_data",
          "data": {
            "image/png": "[encoded data removed]",
            "text/plain": [
              "<Figure size 432x288 with 1 Axes>"
            ]
          },
          "metadata": {
            "tags": [],
            "needs_background": "light"
          }
        },
        {
          "output_type": "display_data",
          "data": {
            "image/png": "[encoded data removed]",
            "text/plain": [
              "<Figure size 432x288 with 1 Axes>"
            ]
          },
          "metadata": {
            "tags": [],
            "needs_background": "light"
          }
        }
      ]
    },
    {
      "cell_type": "code",
      "metadata": {
        "colab": {
          "base_uri": "https://localhost:8080/",
          "height": 591
        },
        "id": "HoKPVif1mton",
        "outputId": "1ddb5688-cf4d-46d4-afa8-bb16f3b388bf"
      },
      "source": [
        "print(history.history.keys())\n",
        "#  \"Accuracy\"\n",
        "plt.plot(history.history['accuracy'])\n",
        "\n",
        "plt.title('model accuracy')\n",
        "plt.ylabel('accuracy')\n",
        "plt.xlabel('epoch')\n",
        "plt.legend(['train'], loc='upper left')\n",
        "plt.show()\n",
        "# \"Loss\"\n",
        "plt.plot(history.history['loss'])\n",
        "\n",
        "plt.title('model loss')\n",
        "plt.ylabel('loss')\n",
        "plt.xlabel('epoch')\n",
        "plt.legend(['train'], loc='upper left')\n",
        "plt.show()"
      ],
      "execution_count": null,
      "outputs": [
        {
          "output_type": "stream",
          "text": [
            "dict_keys(['loss', 'accuracy', 'val_loss', 'val_accuracy'])\n"
          ],
          "name": "stdout"
        },
        {
          "output_type": "display_data",
          "data": {
            "image/png": "[encoded data removed]",
            "text/plain": [
              "<Figure size 432x288 with 1 Axes>"
            ]
          },
          "metadata": {
            "tags": [],
            "needs_background": "light"
          }
        },
        {
          "output_type": "display_data",
          "data": {
            "image/png": "[encoded data removed]",
            "text/plain": [
              "<Figure size 432x288 with 1 Axes>"
            ]
          },
          "metadata": {
            "tags": [],
            "needs_background": "light"
          }
        }
      ]
    },
    {
      "cell_type": "code",
      "metadata": {
        "colab": {
          "base_uri": "https://localhost:8080/",
          "height": 591
        },
        "id": "c9LwRnfKV6vl",
        "outputId": "cb81f3fb-61a4-4593-f7d6-952c90a968bc"
      },
      "source": [
        "print(history.history.keys())\n",
        "#  \"Accuracy\"\n",
        "\n",
        "plt.plot(history.history['val_accuracy'])\n",
        "plt.title('model accuracy')\n",
        "plt.ylabel('accuracy')\n",
        "plt.xlabel('epoch')\n",
        "plt.legend([ 'validation'], loc='upper left')\n",
        "plt.show()\n",
        "# \"Loss\"\n",
        "\n",
        "plt.plot(history.history['val_loss'])\n",
        "plt.title('model loss')\n",
        "plt.ylabel('loss')\n",
        "plt.xlabel('epoch')\n",
        "plt.legend([ 'validation'], loc='upper left')\n",
        "plt.show()"
      ],
      "execution_count": null,
      "outputs": [
        {
          "output_type": "stream",
          "text": [
            "dict_keys(['loss', 'accuracy', 'val_loss', 'val_accuracy'])\n"
          ],
          "name": "stdout"
        },
        {
          "output_type": "display_data",
          "data": {
            "image/png": "[encoded data removed]",
            "text/plain": [
              "<Figure size 432x288 with 1 Axes>"
            ]
          },
          "metadata": {
            "tags": [],
            "needs_background": "light"
          }
        },
        {
          "output_type": "display_data",
          "data": {
            "image/png": "[encoded data removed]",
            "text/plain": [
              "<Figure size 432x288 with 1 Axes>"
            ]
          },
          "metadata": {
            "tags": [],
            "needs_background": "light"
          }
        }
      ]
    },
    {
      "cell_type": "markdown",
      "metadata": {
        "id": "2x1PDVM0s6OI"
      },
      "source": [
        "# Testing"
      ]
    },
    {
      "cell_type": "code",
      "metadata": {
        "id": "5aD3qS7kGzn_"
      },
      "source": [
        "del x_train, y_train"
      ],
      "execution_count": null,
      "outputs": []
    },
    {
      "cell_type": "code",
      "metadata": {
        "id": "hKqAd4QEGzn_"
      },
      "source": [
        "testPath = '/train/'\n",
        "test = pd.read_csv(PATH + '/1.csv')\n",
        "test=test.drop(['diagnosis'], axis=1)"
      ],
      "execution_count": null,
      "outputs": []
    },
    {
      "cell_type": "code",
      "metadata": {
        "id": "6_DDvQ6kGzn_",
        "colab": {
          "base_uri": "https://localhost:8080/",
          "height": 194
        },
        "outputId": "528351dd-5c63-4f8e-da54-f7d330e9433a"
      },
      "source": [
        "test.head()"
      ],
      "execution_count": null,
      "outputs": [
        {
          "output_type": "execute_result",
          "data": {
            "text/html": [
              "<div>\n",
              "<style scoped>\n",
              "    .dataframe tbody tr th:only-of-type {\n",
              "        vertical-align: middle;\n",
              "    }\n",
              "\n",
              "    .dataframe tbody tr th {\n",
              "        vertical-align: top;\n",
              "    }\n",
              "\n",
              "    .dataframe thead th {\n",
              "        text-align: right;\n",
              "    }\n",
              "</style>\n",
              "<table border=\"1\" class=\"dataframe\">\n",
              "  <thead>\n",
              "    <tr style=\"text-align: right;\">\n",
              "      <th></th>\n",
              "      <th>id_code</th>\n",
              "    </tr>\n",
              "  </thead>\n",
              "  <tbody>\n",
              "    <tr>\n",
              "      <th>0</th>\n",
              "      <td>000c1434d8d7</td>\n",
              "    </tr>\n",
              "    <tr>\n",
              "      <th>1</th>\n",
              "      <td>001639a390f0</td>\n",
              "    </tr>\n",
              "    <tr>\n",
              "      <th>2</th>\n",
              "      <td>0024cdab0c1e</td>\n",
              "    </tr>\n",
              "    <tr>\n",
              "      <th>3</th>\n",
              "      <td>002c21358ce6</td>\n",
              "    </tr>\n",
              "    <tr>\n",
              "      <th>4</th>\n",
              "      <td>005b95c28852</td>\n",
              "    </tr>\n",
              "  </tbody>\n",
              "</table>\n",
              "</div>"
            ],
            "text/plain": [
              "        id_code\n",
              "0  000c1434d8d7\n",
              "1  001639a390f0\n",
              "2  0024cdab0c1e\n",
              "3  002c21358ce6\n",
              "4  005b95c28852"
            ]
          },
          "metadata": {
            "tags": []
          },
          "execution_count": 9
        }
      ]
    },
    {
      "cell_type": "code",
      "metadata": {
        "id": "Vh87myt4FZs9"
      },
      "source": [
        "x_test = load_images(test,testPath)"
      ],
      "execution_count": null,
      "outputs": []
    },
    {
      "cell_type": "code",
      "metadata": {
        "id": "JoTUd2kHGzoA",
        "colab": {
          "base_uri": "https://localhost:8080/"
        },
        "outputId": "fac2bef4-8815-44a4-9118-6a5f1a0c61bb"
      },
      "source": [
        "predictions = model.predict(x_test, verbose = 1)\n"
      ],
      "execution_count": null,
      "outputs": [
        {
          "output_type": "stream",
          "text": [
            "18/18 [==============================] - 0s 3ms/step\n"
          ],
          "name": "stdout"
        }
      ]
    },
    {
      "cell_type": "code",
      "metadata": {
        "id": "KI7mbu7V0e-4"
      },
      "source": [
        "print(predictions)\n"
      ],
      "execution_count": null,
      "outputs": []
    },
    {
      "cell_type": "code",
      "metadata": {
        "id": "0vVk6_TtGzoA"
      },
      "source": [
        "for i in range(len(test)):\n",
        "    test.loc[i, 'diagnosis'] = np.argmax(predictions[i - 1])\n",
        "test['diagnosis'] = test['diagnosis'].astype('int')"
      ],
      "execution_count": null,
      "outputs": []
    },
    {
      "cell_type": "code",
      "metadata": {
        "id": "_Y7lFWlPGzoA",
        "colab": {
          "base_uri": "https://localhost:8080/",
          "height": 370
        },
        "outputId": "6d5d4278-62e3-4087-d422-1d957eebbd7b"
      },
      "source": [
        "test.head(11)"
      ],
      "execution_count": null,
      "outputs": [
        {
          "output_type": "execute_result",
          "data": {
            "text/html": [
              "<div>\n",
              "<style scoped>\n",
              "    .dataframe tbody tr th:only-of-type {\n",
              "        vertical-align: middle;\n",
              "    }\n",
              "\n",
              "    .dataframe tbody tr th {\n",
              "        vertical-align: top;\n",
              "    }\n",
              "\n",
              "    .dataframe thead th {\n",
              "        text-align: right;\n",
              "    }\n",
              "</style>\n",
              "<table border=\"1\" class=\"dataframe\">\n",
              "  <thead>\n",
              "    <tr style=\"text-align: right;\">\n",
              "      <th></th>\n",
              "      <th>id_code</th>\n",
              "      <th>diagnosis</th>\n",
              "    </tr>\n",
              "  </thead>\n",
              "  <tbody>\n",
              "    <tr>\n",
              "      <th>0</th>\n",
              "      <td>000c1434d8d7</td>\n",
              "      <td>0</td>\n",
              "    </tr>\n",
              "    <tr>\n",
              "      <th>1</th>\n",
              "      <td>001639a390f0</td>\n",
              "      <td>2</td>\n",
              "    </tr>\n",
              "    <tr>\n",
              "      <th>2</th>\n",
              "      <td>0024cdab0c1e</td>\n",
              "      <td>2</td>\n",
              "    </tr>\n",
              "    <tr>\n",
              "      <th>3</th>\n",
              "      <td>002c21358ce6</td>\n",
              "      <td>1</td>\n",
              "    </tr>\n",
              "    <tr>\n",
              "      <th>4</th>\n",
              "      <td>005b95c28852</td>\n",
              "      <td>0</td>\n",
              "    </tr>\n",
              "    <tr>\n",
              "      <th>5</th>\n",
              "      <td>0083ee8054ee</td>\n",
              "      <td>0</td>\n",
              "    </tr>\n",
              "    <tr>\n",
              "      <th>6</th>\n",
              "      <td>0097f532ac9f</td>\n",
              "      <td>4</td>\n",
              "    </tr>\n",
              "    <tr>\n",
              "      <th>7</th>\n",
              "      <td>00a8624548a9</td>\n",
              "      <td>0</td>\n",
              "    </tr>\n",
              "    <tr>\n",
              "      <th>8</th>\n",
              "      <td>00b74780d31d</td>\n",
              "      <td>2</td>\n",
              "    </tr>\n",
              "    <tr>\n",
              "      <th>9</th>\n",
              "      <td>00cb6555d108</td>\n",
              "      <td>2</td>\n",
              "    </tr>\n",
              "    <tr>\n",
              "      <th>10</th>\n",
              "      <td>00cc2b75cddd</td>\n",
              "      <td>1</td>\n",
              "    </tr>\n",
              "  </tbody>\n",
              "</table>\n",
              "</div>"
            ],
            "text/plain": [
              "         id_code  diagnosis\n",
              "0   000c1434d8d7          0\n",
              "1   001639a390f0          2\n",
              "2   0024cdab0c1e          2\n",
              "3   002c21358ce6          1\n",
              "4   005b95c28852          0\n",
              "5   0083ee8054ee          0\n",
              "6   0097f532ac9f          4\n",
              "7   00a8624548a9          0\n",
              "8   00b74780d31d          2\n",
              "9   00cb6555d108          2\n",
              "10  00cc2b75cddd          1"
            ]
          },
          "metadata": {
            "tags": []
          },
          "execution_count": 63
        }
      ]
    },
    {
      "cell_type": "code",
      "metadata": {
        "id": "skGNuT77GzoA"
      },
      "source": [
        "test.to_csv('prediction_m.csv', index = False)"
      ],
      "execution_count": null,
      "outputs": []
    },
    {
      "cell_type": "code",
      "metadata": {
        "id": "OGRoAPL45Gqg",
        "colab": {
          "base_uri": "https://localhost:8080/"
        },
        "outputId": "ed491666-06b2-4563-c4f5-3876f90cc394"
      },
      "source": [
        "y_pred=model.predict_classes(x_test, verbose = 1)\n",
        "for i in y_pred:\n",
        "    print(i)"
      ],
      "execution_count": null,
      "outputs": [
        {
          "output_type": "stream",
          "text": [
            "18/18 [==============================] - 0s 4ms/step\n",
            "2\n",
            "2\n",
            "1\n",
            "0\n",
            "0\n",
            "4\n",
            "0\n",
            "2\n",
            "2\n",
            "1\n",
            "0\n",
            "2\n",
            "0\n",
            "3\n",
            "2\n",
            "0\n",
            "2\n",
            "0\n",
            "0\n",
            "2\n",
            "4\n",
            "0\n",
            "1\n",
            "2\n",
            "0\n",
            "3\n",
            "0\n",
            "0\n",
            "0\n",
            "0\n",
            "0\n",
            "0\n",
            "3\n",
            "0\n",
            "4\n",
            "2\n",
            "0\n",
            "0\n",
            "4\n",
            "0\n",
            "4\n",
            "2\n",
            "2\n",
            "4\n",
            "4\n",
            "1\n",
            "2\n",
            "4\n",
            "0\n",
            "3\n",
            "2\n",
            "2\n",
            "2\n",
            "3\n",
            "2\n",
            "0\n",
            "1\n",
            "0\n",
            "3\n",
            "1\n",
            "0\n",
            "2\n",
            "0\n",
            "0\n",
            "0\n",
            "0\n",
            "3\n",
            "2\n",
            "0\n",
            "0\n",
            "0\n",
            "3\n",
            "3\n",
            "2\n",
            "3\n",
            "0\n",
            "3\n",
            "0\n",
            "2\n",
            "0\n",
            "3\n",
            "3\n",
            "3\n",
            "0\n",
            "2\n",
            "0\n",
            "3\n",
            "4\n",
            "2\n",
            "2\n",
            "0\n",
            "0\n",
            "0\n",
            "0\n",
            "3\n",
            "0\n",
            "3\n",
            "3\n",
            "0\n",
            "3\n",
            "2\n",
            "0\n",
            "0\n",
            "0\n",
            "4\n",
            "4\n",
            "0\n",
            "0\n",
            "4\n",
            "4\n",
            "2\n",
            "0\n",
            "0\n",
            "2\n",
            "0\n",
            "0\n",
            "0\n",
            "0\n",
            "0\n",
            "3\n",
            "0\n",
            "3\n",
            "4\n",
            "0\n",
            "0\n",
            "4\n",
            "0\n",
            "0\n",
            "0\n",
            "0\n",
            "2\n",
            "0\n",
            "3\n",
            "3\n",
            "2\n",
            "1\n",
            "0\n",
            "0\n",
            "1\n",
            "0\n",
            "0\n",
            "0\n",
            "2\n",
            "0\n",
            "3\n",
            "3\n",
            "4\n",
            "0\n",
            "2\n",
            "4\n",
            "2\n",
            "0\n",
            "0\n",
            "0\n",
            "0\n",
            "0\n",
            "1\n",
            "4\n",
            "2\n",
            "0\n",
            "0\n",
            "3\n",
            "2\n",
            "2\n",
            "3\n",
            "2\n",
            "0\n",
            "3\n",
            "0\n",
            "0\n",
            "0\n",
            "0\n",
            "3\n",
            "0\n",
            "2\n",
            "0\n",
            "1\n",
            "0\n",
            "0\n",
            "0\n",
            "2\n",
            "0\n",
            "0\n",
            "0\n",
            "0\n",
            "1\n",
            "0\n",
            "1\n",
            "3\n",
            "1\n",
            "0\n",
            "4\n",
            "0\n",
            "0\n",
            "2\n",
            "4\n",
            "0\n",
            "4\n",
            "0\n",
            "3\n",
            "0\n",
            "4\n",
            "1\n",
            "0\n",
            "3\n",
            "0\n",
            "3\n",
            "3\n",
            "1\n",
            "3\n",
            "0\n",
            "2\n",
            "3\n",
            "3\n",
            "0\n",
            "3\n",
            "0\n",
            "0\n",
            "2\n",
            "1\n",
            "0\n",
            "2\n",
            "2\n",
            "0\n",
            "0\n",
            "0\n",
            "4\n",
            "2\n",
            "0\n",
            "2\n",
            "0\n",
            "4\n",
            "3\n",
            "3\n",
            "2\n",
            "2\n",
            "3\n",
            "3\n",
            "2\n",
            "0\n",
            "2\n",
            "0\n",
            "3\n",
            "0\n",
            "3\n",
            "3\n",
            "0\n",
            "2\n",
            "0\n",
            "0\n",
            "3\n",
            "3\n",
            "2\n",
            "0\n",
            "2\n",
            "0\n",
            "2\n",
            "3\n",
            "0\n",
            "0\n",
            "0\n",
            "2\n",
            "0\n",
            "2\n",
            "3\n",
            "3\n",
            "2\n",
            "0\n",
            "4\n",
            "4\n",
            "2\n",
            "0\n",
            "3\n",
            "2\n",
            "0\n",
            "0\n",
            "0\n",
            "0\n",
            "2\n",
            "0\n",
            "0\n",
            "2\n",
            "2\n",
            "0\n",
            "3\n",
            "0\n",
            "1\n",
            "2\n",
            "0\n",
            "3\n",
            "3\n",
            "0\n",
            "0\n",
            "0\n",
            "0\n",
            "2\n",
            "2\n",
            "0\n",
            "3\n",
            "3\n",
            "0\n",
            "0\n",
            "2\n",
            "3\n",
            "3\n",
            "2\n",
            "3\n",
            "0\n",
            "1\n",
            "0\n",
            "0\n",
            "0\n",
            "0\n",
            "0\n",
            "3\n",
            "3\n",
            "0\n",
            "3\n",
            "3\n",
            "4\n",
            "0\n",
            "0\n",
            "0\n",
            "0\n",
            "4\n",
            "0\n",
            "3\n",
            "0\n",
            "0\n",
            "2\n",
            "2\n",
            "0\n",
            "0\n",
            "0\n",
            "0\n",
            "2\n",
            "2\n",
            "0\n",
            "3\n",
            "0\n",
            "3\n",
            "0\n",
            "3\n",
            "1\n",
            "0\n",
            "2\n",
            "3\n",
            "1\n",
            "0\n",
            "0\n",
            "1\n",
            "4\n",
            "3\n",
            "0\n",
            "0\n",
            "3\n",
            "0\n",
            "2\n",
            "4\n",
            "4\n",
            "2\n",
            "0\n",
            "2\n",
            "0\n",
            "2\n",
            "0\n",
            "4\n",
            "0\n",
            "0\n",
            "2\n",
            "3\n",
            "0\n",
            "0\n",
            "2\n",
            "1\n",
            "2\n",
            "4\n",
            "3\n",
            "2\n",
            "0\n",
            "1\n",
            "0\n",
            "1\n",
            "4\n",
            "3\n",
            "2\n",
            "2\n",
            "2\n",
            "0\n",
            "3\n",
            "1\n",
            "0\n",
            "0\n",
            "0\n",
            "0\n",
            "0\n",
            "2\n",
            "0\n",
            "0\n",
            "1\n",
            "2\n",
            "0\n",
            "0\n",
            "0\n",
            "0\n",
            "0\n",
            "2\n",
            "4\n",
            "0\n",
            "4\n",
            "0\n",
            "0\n",
            "2\n",
            "0\n",
            "2\n",
            "4\n",
            "0\n",
            "0\n",
            "0\n",
            "3\n",
            "2\n",
            "0\n",
            "0\n",
            "4\n",
            "3\n",
            "2\n",
            "2\n",
            "0\n",
            "0\n",
            "3\n",
            "0\n",
            "3\n",
            "0\n",
            "2\n",
            "0\n",
            "0\n",
            "4\n",
            "2\n",
            "3\n",
            "0\n",
            "0\n",
            "0\n",
            "3\n",
            "0\n",
            "2\n",
            "0\n",
            "2\n",
            "0\n",
            "0\n",
            "0\n",
            "4\n",
            "0\n",
            "2\n",
            "3\n",
            "3\n",
            "0\n",
            "0\n",
            "1\n",
            "2\n",
            "3\n",
            "2\n",
            "0\n",
            "3\n",
            "3\n",
            "0\n",
            "0\n",
            "0\n",
            "4\n",
            "4\n",
            "0\n",
            "2\n",
            "0\n",
            "2\n",
            "4\n",
            "3\n",
            "0\n",
            "0\n",
            "2\n",
            "3\n",
            "3\n",
            "2\n",
            "0\n",
            "2\n",
            "0\n",
            "0\n",
            "4\n",
            "3\n",
            "2\n",
            "0\n",
            "1\n",
            "2\n",
            "0\n",
            "4\n",
            "3\n",
            "3\n",
            "0\n",
            "3\n",
            "0\n",
            "2\n",
            "3\n",
            "1\n",
            "0\n",
            "0\n",
            "0\n",
            "2\n",
            "2\n",
            "2\n",
            "3\n",
            "1\n",
            "0\n",
            "3\n",
            "1\n",
            "0\n",
            "0\n",
            "0\n",
            "2\n",
            "0\n",
            "2\n",
            "1\n",
            "2\n",
            "0\n",
            "0\n",
            "0\n",
            "3\n",
            "0\n",
            "4\n",
            "2\n",
            "3\n",
            "3\n",
            "0\n",
            "3\n",
            "4\n",
            "4\n",
            "0\n",
            "2\n",
            "4\n",
            "3\n",
            "0\n",
            "3\n",
            "1\n",
            "3\n",
            "0\n",
            "0\n",
            "0\n",
            "0\n"
          ],
          "name": "stdout"
        },
        {
          "output_type": "stream",
          "text": [
            "/usr/local/lib/python3.7/dist-packages/tensorflow/python/keras/engine/sequential.py:450: UserWarning: `model.predict_classes()` is deprecated and will be removed after 2021-01-01. Please use instead:* `np.argmax(model.predict(x), axis=-1)`,   if your model does multi-class classification   (e.g. if it uses a `softmax` last-layer activation).* `(model.predict(x) > 0.5).astype(\"int32\")`,   if your model does binary classification   (e.g. if it uses a `sigmoid` last-layer activation).\n",
            "  warnings.warn('`model.predict_classes()` is deprecated and '\n"
          ],
          "name": "stderr"
        }
      ]
    },
    {
      "cell_type": "code",
      "metadata": {
        "id": "jNRGhLp37XS8"
      },
      "source": [
        "pred = pd.read_csv('/content/drive/MyDrive/4/pread.csv')\n"
      ],
      "execution_count": null,
      "outputs": []
    },
    {
      "cell_type": "code",
      "metadata": {
        "colab": {
          "base_uri": "https://localhost:8080/",
          "height": 204
        },
        "id": "NzBKcus7kVXZ",
        "outputId": "d5d6d48e-2134-449f-d4c8-e5a1861f3034"
      },
      "source": [
        "testPath = '/train/'\n",
        "test1 = pd.read_csv(PATH + '/pread.csv')\n",
        "test1.head()"
      ],
      "execution_count": null,
      "outputs": [
        {
          "output_type": "execute_result",
          "data": {
            "text/html": [
              "<div>\n",
              "<style scoped>\n",
              "    .dataframe tbody tr th:only-of-type {\n",
              "        vertical-align: middle;\n",
              "    }\n",
              "\n",
              "    .dataframe tbody tr th {\n",
              "        vertical-align: top;\n",
              "    }\n",
              "\n",
              "    .dataframe thead th {\n",
              "        text-align: right;\n",
              "    }\n",
              "</style>\n",
              "<table border=\"1\" class=\"dataframe\">\n",
              "  <thead>\n",
              "    <tr style=\"text-align: right;\">\n",
              "      <th></th>\n",
              "      <th>id_code</th>\n",
              "      <th>diagnosis</th>\n",
              "    </tr>\n",
              "  </thead>\n",
              "  <tbody>\n",
              "    <tr>\n",
              "      <th>0</th>\n",
              "      <td>000c1434d8d7</td>\n",
              "      <td>2</td>\n",
              "    </tr>\n",
              "    <tr>\n",
              "      <th>1</th>\n",
              "      <td>001639a390f0</td>\n",
              "      <td>1</td>\n",
              "    </tr>\n",
              "    <tr>\n",
              "      <th>2</th>\n",
              "      <td>0024cdab0c1e</td>\n",
              "      <td>1</td>\n",
              "    </tr>\n",
              "    <tr>\n",
              "      <th>3</th>\n",
              "      <td>002c21358ce6</td>\n",
              "      <td>1</td>\n",
              "    </tr>\n",
              "    <tr>\n",
              "      <th>4</th>\n",
              "      <td>005b95c28852</td>\n",
              "      <td>1</td>\n",
              "    </tr>\n",
              "  </tbody>\n",
              "</table>\n",
              "</div>"
            ],
            "text/plain": [
              "        id_code  diagnosis\n",
              "0  000c1434d8d7          2\n",
              "1  001639a390f0          1\n",
              "2  0024cdab0c1e          1\n",
              "3  002c21358ce6          1\n",
              "4  005b95c28852          1"
            ]
          },
          "metadata": {
            "tags": []
          },
          "execution_count": 8
        }
      ]
    },
    {
      "cell_type": "markdown",
      "metadata": {
        "id": "O39rTug1tFdd"
      },
      "source": [
        "# Confusion matrix "
      ]
    },
    {
      "cell_type": "code",
      "metadata": {
        "id": "a7Kg_yKElYjj"
      },
      "source": [
        "%matplotlib inline\n",
        "from sklearn.metrics import confusion_matrix\n",
        "import itertools\n",
        "import matplotlib.pyplot as plt\n",
        "cm = confusion_matrix(y_true=test1['diagnosis'][0:1490], y_pred=pred['diagnosis'])"
      ],
      "execution_count": null,
      "outputs": []
    },
    {
      "cell_type": "code",
      "metadata": {
        "id": "5gXALyM-lYmB"
      },
      "source": [
        "def plot_confusion_matrix(cm, classes,\n",
        "                        normalize=False,\n",
        "                        title='Confusion matrix',\n",
        "                        cmap=plt.cm.Blues):\n",
        "    \"\"\"\n",
        "    This function prints and plots the confusion matrix.\n",
        "    Normalization can be applied by setting `normalize=True`.\n",
        "    \"\"\"\n",
        "    plt.imshow(cm, interpolation='nearest', cmap=cmap)\n",
        "    plt.title(title)\n",
        "    plt.colorbar()\n",
        "    tick_marks = np.arange(len(classes))\n",
        "    plt.xticks(tick_marks, classes, rotation=45)\n",
        "    plt.yticks(tick_marks, classes)\n",
        "\n",
        "    if normalize:\n",
        "        cm = cm.astype('float') / cm.sum(axis=1)[:, np.newaxis]\n",
        "        print(\"Normalized confusion matrix\")\n",
        "    else:\n",
        "        print('Confusion matrix, without normalization')\n",
        "\n",
        "    print(cm)\n",
        "\n",
        "    thresh = cm.max() / 2.\n",
        "    for i, j in itertools.product(range(cm.shape[0]), range(cm.shape[1])):\n",
        "        plt.text(j, i, cm[i, j],\n",
        "            horizontalalignment=\"center\",\n",
        "            color=\"white\" if cm[i, j] > thresh else \"black\")\n",
        "\n",
        "    plt.tight_layout()\n",
        "    plt.ylabel('True label')\n",
        "    plt.xlabel('Predicted label')"
      ],
      "execution_count": null,
      "outputs": []
    },
    {
      "cell_type": "code",
      "metadata": {
        "colab": {
          "base_uri": "https://localhost:8080/",
          "height": 418
        },
        "id": "Y8LQyv8XlYo3",
        "outputId": "52b40e95-9188-42b1-e78a-292c2688cacb"
      },
      "source": [
        "cm_plot_labels = ['0', '1', '2', '3', '4']\n",
        "plot_confusion_matrix(cm=cm, classes=cm_plot_labels, title='Confusion Matrix')"
      ],
      "execution_count": null,
      "outputs": [
        {
          "output_type": "stream",
          "text": [
            "Confusion matrix, without normalization\n",
            "[[132   9   8   2   4]\n",
            " [ 25  52  16   5   7]\n",
            " [ 13   3  86   2   3]\n",
            " [ 21   9  12  41   6]\n",
            " [ 19   7  13   4  46]]\n"
          ],
          "name": "stdout"
        },
        {
          "output_type": "display_data",
          "data": {
            "image/png": "[encoded data removed]",
            "text/plain": [
              "<Figure size 432x288 with 2 Axes>"
            ]
          },
          "metadata": {
            "tags": [],
            "needs_background": "light"
          }
        }
      ]
    },
    {
      "cell_type": "code",
      "metadata": {
        "id": "LsKxLnvtlk3x"
      },
      "source": [
        "from sklearn.metrics import accuracy_score\n",
        "accuracy_score(y_true=test1['diagnosis'][0:1490], y_pred=pred['diagnosis'])\n"
      ],
      "execution_count": null,
      "outputs": []
    },
    {
      "cell_type": "code",
      "metadata": {
        "id": "7EXdA8XUnmLA"
      },
      "source": [
        "y_true=test1['diagnosis'][0:1490]\n",
        "y_pred=pred['diagnosis']"
      ],
      "execution_count": null,
      "outputs": []
    },
    {
      "cell_type": "code",
      "metadata": {
        "id": "P6YUcYauHSWK"
      },
      "source": [
        "# Finding precision and recall\n",
        "from sklearn.metrics import precision_score, recall_score\n",
        "\n",
        "precision_score(y_true, y_pred, average=None, zero_division=1)"
      ],
      "execution_count": null,
      "outputs": []
    }
  ]
}